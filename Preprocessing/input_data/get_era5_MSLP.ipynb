{
 "cells": [
  {
   "cell_type": "code",
   "execution_count": null,
   "metadata": {},
   "outputs": [],
   "source": [
    "!pip install cdsapi"
   ]
  },
  {
   "cell_type": "code",
   "execution_count": 9,
   "metadata": {},
   "outputs": [
    {
     "name": "stderr",
     "output_type": "stream",
     "text": [
      "2023-12-18 03:45:28,535 INFO Welcome to the CDS\n",
      "2023-12-18 03:45:28,536 INFO Sending request to https://cds.climate.copernicus.eu/api/v2/resources/reanalysis-era5-single-levels-monthly-means\n",
      "2023-12-18 03:45:28,883 INFO Request is completed\n",
      "2023-12-18 03:45:28,884 INFO Downloading https://download-0003-clone.copernicus-climate.eu/cache-compute-0003/cache/data9/adaptor.mars.internal-1702838370.5981495-16018-14-6855461b-6663-4448-a772-b1cd69c28b72.nc to Monthly_mean_MSLP.nc (903M)\n",
      "2023-12-18 03:50:41,924 INFO Download rate 2.9M/s    \n"
     ]
    },
    {
     "data": {
      "text/plain": [
       "Result(content_length=946886488,content_type=application/x-netcdf,location=https://download-0003-clone.copernicus-climate.eu/cache-compute-0003/cache/data9/adaptor.mars.internal-1702838370.5981495-16018-14-6855461b-6663-4448-a772-b1cd69c28b72.nc)"
      ]
     },
     "execution_count": 9,
     "metadata": {},
     "output_type": "execute_result"
    }
   ],
   "source": [
    "import cdsapi\n",
    "\n",
    "c = cdsapi.Client()\n",
    "\n",
    "c.retrieve(\n",
    "    'reanalysis-era5-single-levels-monthly-means',\n",
    "    {\n",
    "        'format': 'netcdf',\n",
    "        'product_type': 'monthly_averaged_reanalysis',\n",
    "        'variable': 'mean_sea_level_pressure',\n",
    "        'year': [\n",
    "            '1980', '1981', '1982',\n",
    "            '1983', '1984', '1985',\n",
    "            '1986', '1987', '1988',\n",
    "            '1989', '1990', '1991',\n",
    "            '1992', '1993', '1994',\n",
    "            '1995', '1996', '1997',\n",
    "            '1998', '1999', '2000',\n",
    "            '2001', '2002', '2003',\n",
    "            '2004', '2005', '2006',\n",
    "            '2007', '2008', '2009',\n",
    "            '2010', '2011', '2012',\n",
    "            '2013', '2014', '2015',\n",
    "            '2016', '2017',\n",
    "        ],\n",
    "        'month': [\n",
    "            '01', '02', '03',\n",
    "            '04', '05', '06',\n",
    "            '07', '08', '09',\n",
    "            '10', '11', '12',\n",
    "        ],\n",
    "        'time': '00:00',\n",
    "    },\n",
    "    'Monthly_mean_MSLP.nc')"
   ]
  },
  {
   "cell_type": "code",
   "execution_count": null,
   "metadata": {},
   "outputs": [],
   "source": []
  },
  {
   "cell_type": "code",
   "execution_count": null,
   "metadata": {},
   "outputs": [],
   "source": []
  }
 ],
 "metadata": {
  "kernelspec": {
   "display_name": "Python 3",
   "language": "python",
   "name": "python3"
  },
  "language_info": {
   "codemirror_mode": {
    "name": "ipython",
    "version": 3
   },
   "file_extension": ".py",
   "mimetype": "text/x-python",
   "name": "python",
   "nbconvert_exporter": "python",
   "pygments_lexer": "ipython3",
   "version": "3.9.1"
  }
 },
 "nbformat": 4,
 "nbformat_minor": 2
}
